{
 "cells": [
  {
   "cell_type": "markdown",
   "id": "dd9a0734-ff25-498b-8fbf-47f02c334864",
   "metadata": {},
   "source": [
    "Q1. How can we store a s1ngle quote (‘) as a string in a variable?"
   ]
  },
  {
   "cell_type": "code",
   "execution_count": 3,
   "id": "fbcfe0dd-478f-4484-8ca7-7bee6ff36aa5",
   "metadata": {},
   "outputs": [
    {
     "name": "stdout",
     "output_type": "stream",
     "text": [
      "'\n"
     ]
    },
    {
     "data": {
      "text/plain": [
       "str"
      ]
     },
     "execution_count": 3,
     "metadata": {},
     "output_type": "execute_result"
    }
   ],
   "source": [
    "a = \"'\"\n",
    "print(a)\n",
    "type(a)"
   ]
  },
  {
   "cell_type": "markdown",
   "id": "7aa04291-768b-4d99-bebe-455b25d7066b",
   "metadata": {},
   "source": [
    "Q2. Refer the below variable:\n",
    "x = ‘a'\n",
    "Here, is x a character type or string type variable? Support your answer with an explanation."
   ]
  },
  {
   "cell_type": "markdown",
   "id": "ee28ebe0-b8a2-4ec9-9d2f-32869325c72f",
   "metadata": {},
   "source": [
    "x is a character type variable. In Python, a single character is represented using a string literal with a length of 1. Therefore, the value 'a' in this context is considered a string containing a single character."
   ]
  },
  {
   "cell_type": "markdown",
   "id": "f02cc850-8cb4-4238-8e36-62461474df8f",
   "metadata": {},
   "source": [
    "Q3. Apply the following functions on this variable: ‘Welcome to Python foundation course'\n",
    "1. find()\n",
    "2. count()\n",
    "3. len()\n",
    "4. Concatenation\n",
    "Note: You can use your choice of parameters. But make sure it is correct."
   ]
  },
  {
   "cell_type": "code",
   "execution_count": 4,
   "id": "08b47a05-c386-49ac-9800-b9e01ea8068e",
   "metadata": {},
   "outputs": [
    {
     "name": "stdout",
     "output_type": "stream",
     "text": [
      "2\n",
      "1\n",
      "6\n",
      "Hello World\n"
     ]
    }
   ],
   "source": [
    "# 1. find()\n",
    "\n",
    "a = \"raktim\"\n",
    "a1 = a.find('k')\n",
    "print(a1)\n",
    "\n",
    "# 2. count()\n",
    "b1 = a.count('i')\n",
    "print(b1)\n",
    "\n",
    "# 3. len()\n",
    "\n",
    "c1 = len(a)\n",
    "print(c1)\n",
    "\n",
    "# 4. concatenate\n",
    "\n",
    "s1 = \"Hello\"\n",
    "s2 = \" World\"\n",
    "result = s1 + s2\n",
    "print(result)"
   ]
  },
  {
   "cell_type": "markdown",
   "id": "99287690-d0dd-4739-81e6-7a58b653e4b5",
   "metadata": {},
   "source": [
    "Q4. For the variable: word = ‘PanaJi@12256'\n",
    "Calculate the following:\n",
    "(a) Total number of alphabets in lowercase\n",
    "(b) Total number of alphabets in uppercase\n",
    "(c) Total number of numerical in string"
   ]
  },
  {
   "cell_type": "code",
   "execution_count": 10,
   "id": "e52d8d9e-c444-4d55-976a-bb535188f14d",
   "metadata": {},
   "outputs": [
    {
     "name": "stdout",
     "output_type": "stream",
     "text": [
      "4\n",
      "2\n",
      "5\n"
     ]
    }
   ],
   "source": [
    "# (a) Total number of alphabets in lowercase\n",
    "word = 'PanaJi@12256'\n",
    "lowercase_count = sum(1 for char in word if char.islower())\n",
    "print(lowercase_count)\n",
    "\n",
    "# (b) Total number of alphabets in uppercase\n",
    "word = 'PanaJi@12256'\n",
    "uppercase_count = sum(1 for char in word if char.isupper())\n",
    "print(uppercase_count)\n",
    "\n",
    "# (c) Total number of numerical in string\n",
    "word = 'PanaJi@12256'\n",
    "numerical_count = sum(1 for char in word if char.isdigit())\n",
    "print(numerical_count)"
   ]
  },
  {
   "cell_type": "markdown",
   "id": "807c2d28-e640-421f-8565-1110a52e7c8a",
   "metadata": {},
   "source": [
    "Q5. Write a code to store a numerical value inside a variable then convert it into string."
   ]
  },
  {
   "cell_type": "code",
   "execution_count": 14,
   "id": "cbf2d70a-a41e-420f-948a-a7917f77ef0a",
   "metadata": {},
   "outputs": [
    {
     "name": "stdout",
     "output_type": "stream",
     "text": [
      "<class 'int'>\n",
      "<class 'str'>\n"
     ]
    }
   ],
   "source": [
    "value = 2\n",
    "print(type(value)) # print integer\n",
    "\n",
    "string = str(value)\n",
    "print(type(string)) # convert integer to string"
   ]
  },
  {
   "cell_type": "code",
   "execution_count": null,
   "id": "66237010-acb1-441f-8d81-797ed2d136bf",
   "metadata": {},
   "outputs": [],
   "source": []
  }
 ],
 "metadata": {
  "kernelspec": {
   "display_name": "Python 3 (ipykernel)",
   "language": "python",
   "name": "python3"
  },
  "language_info": {
   "codemirror_mode": {
    "name": "ipython",
    "version": 3
   },
   "file_extension": ".py",
   "mimetype": "text/x-python",
   "name": "python",
   "nbconvert_exporter": "python",
   "pygments_lexer": "ipython3",
   "version": "3.10.4"
  }
 },
 "nbformat": 4,
 "nbformat_minor": 5
}
